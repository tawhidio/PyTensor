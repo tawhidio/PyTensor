{
 "cells": [
  {
   "cell_type": "markdown",
   "id": "liable-madness",
   "metadata": {},
   "source": [
    "# 생성 자동 분류\n"
   ]
  },
  {
   "cell_type": "code",
   "execution_count": 1,
   "id": "hindu-youth",
   "metadata": {},
   "outputs": [],
   "source": [
    "import matplotlib.pyplot as pl\n",
    "\n",
    "\n",
    "# 도미 길기와 무게\n",
    "bream_length = [25.4, 26.3, 26.5, 29.0, 29.0, \n",
    "                29.7, 29.7, 30.0, 30.0, 30.7, \n",
    "                31.0, 31.0, 31.5, 32.0, 32.0, \n",
    "                32.0, 33.0, 33.0, 33.5, 33.5, \n",
    "                34.0, 34.0, 34.5, 35.0, 35.0, \n",
    "                35.0, 35.0, 36.0, 36.0, 37.0, \n",
    "                38.5, 38.5, 39.5, 41.0, 41.0]\n",
    "\n",
    "bream_weight = [242.0, 290.0, 340.0, 363.0, 430.0, \n",
    "                450.0, 500.0, 390.0, 450.0, 500.0, \n",
    "                475.0, 500.0, 500.0, 340.0, 600.0, \n",
    "                600.0, 700.0, 700.0, 610.0, 650.0, \n",
    "                575.0, 685.0, 620.0, 680.0, 700.0, \n",
    "                725.0, 720.0, 714.0, 850.0, 1000.0, \n",
    "                920.0, 955.0, 925.0, 975.0, 950.0]\n",
    "\n",
    "# 빙어의 길이와 무게\n",
    "smelt_length = [9.8, 10.5, 10.6, 11.0, 11.2, \n",
    "                11.3, 11.8, 11.8, 12.0, 12.2, \n",
    "                12.4, 13.0, 14.3, 15.0]\n",
    "\n",
    "smelt_weight = [6.7, 7.5, 7.0, 9.7, 9.8, \n",
    "                8.7, 10.0, 9.9, 9.8, 12.2, \n",
    "                13.4, 12.2, 19.7, 19.9]\n"
   ]
  },
  {
   "cell_type": "code",
   "execution_count": 2,
   "id": "molecular-probability",
   "metadata": {},
   "outputs": [
    {
     "name": "stderr",
     "output_type": "stream",
     "text": [
      "No handles with labels found to put in legend.\n"
     ]
    },
    {
     "data": {
      "image/png": "[encoded data removed]",
      "text/plain": [
       "<Figure size 432x288 with 1 Axes>"
      ]
     },
     "metadata": {
      "needs_background": "light"
     },
     "output_type": "display_data"
    }
   ],
   "source": [
    "# 도미 산점도 그리기\n",
    "pl.scatter(bream_length, bream_weight)\n",
    "\n",
    "# 빙어산점도 그리기\n",
    "pl.scatter(smelt_length, smelt_weight)\n",
    "\n",
    "# 학습 후  테스트 데이터 정상 분류확인을 위함\n",
    "test_input_length = [30]\n",
    "test_input_weight = [600]\n",
    "pl.plot(test_input_length, test_input_weight, 'g^', color='red')\n",
    "\n",
    "# 산점도 출력\n",
    "pl.xlabel('length')\n",
    "pl.ylabel('weight')\n",
    "\n",
    "pl.legend()\n",
    "pl.show()"
   ]
  },
  {
   "cell_type": "code",
   "execution_count": 3,
   "id": "hazardous-vinyl",
   "metadata": {
    "scrolled": false
   },
   "outputs": [
    {
     "name": "stdout",
     "output_type": "stream",
     "text": [
      "Length :  [25.4, 26.3, 26.5, 29.0, 29.0, 29.7, 29.7, 30.0, 30.0, 30.7, 31.0, 31.0, 31.5, 32.0, 32.0, 32.0, 33.0, 33.0, 33.5, 33.5, 34.0, 34.0, 34.5, 35.0, 35.0, 35.0, 35.0, 36.0, 36.0, 37.0, 38.5, 38.5, 39.5, 41.0, 41.0, 9.8, 10.5, 10.6, 11.0, 11.2, 11.3, 11.8, 11.8, 12.0, 12.2, 12.4, 13.0, 14.3, 15.0]\n",
      "\n",
      "Weight :  [242.0, 290.0, 340.0, 363.0, 430.0, 450.0, 500.0, 390.0, 450.0, 500.0, 475.0, 500.0, 500.0, 340.0, 600.0, 600.0, 700.0, 700.0, 610.0, 650.0, 575.0, 685.0, 620.0, 680.0, 700.0, 725.0, 720.0, 714.0, 850.0, 1000.0, 920.0, 955.0, 925.0, 975.0, 950.0, 6.7, 7.5, 7.0, 9.7, 9.8, 8.7, 10.0, 9.9, 9.8, 12.2, 13.4, 12.2, 19.7, 19.9]\n"
     ]
    }
   ],
   "source": [
    "# 도미와 빙어의  각각의 크기와 무게 리스트를 병합 \n",
    "length = bream_length + smelt_length\n",
    "weight = bream_weight + smelt_weight\n",
    "print(\"Length : \", length)\n",
    "print(\"\\nWeight : \", weight)"
   ]
  },
  {
   "cell_type": "markdown",
   "id": "catholic-investing",
   "metadata": {},
   "source": [
    "## 머신러닝 패키지로 사이킷런(Scikit-learn) 사용\n",
    "### -각 특성의 리스트를 세로 방향으로 늘어뜨린 2차원 리스트로 만듬"
   ]
  },
  {
   "cell_type": "code",
   "execution_count": 4,
   "id": "informative-courage",
   "metadata": {
    "scrolled": true
   },
   "outputs": [
    {
     "name": "stdout",
     "output_type": "stream",
     "text": [
      "fish_data[total :  49 ] : \n",
      " [[25.4, 242.0], [26.3, 290.0], [26.5, 340.0], [29.0, 363.0], [29.0, 430.0], [29.7, 450.0], [29.7, 500.0], [30.0, 390.0], [30.0, 450.0], [30.7, 500.0], [31.0, 475.0], [31.0, 500.0], [31.5, 500.0], [32.0, 340.0], [32.0, 600.0], [32.0, 600.0], [33.0, 700.0], [33.0, 700.0], [33.5, 610.0], [33.5, 650.0], [34.0, 575.0], [34.0, 685.0], [34.5, 620.0], [35.0, 680.0], [35.0, 700.0], [35.0, 725.0], [35.0, 720.0], [36.0, 714.0], [36.0, 850.0], [37.0, 1000.0], [38.5, 920.0], [38.5, 955.0], [39.5, 925.0], [41.0, 975.0], [41.0, 950.0], [9.8, 6.7], [10.5, 7.5], [10.6, 7.0], [11.0, 9.7], [11.2, 9.8], [11.3, 8.7], [11.8, 10.0], [11.8, 9.9], [12.0, 9.8], [12.2, 12.2], [12.4, 13.4], [13.0, 12.2], [14.3, 19.7], [15.0, 19.9]]\n"
     ]
    }
   ],
   "source": [
    "# 사이킷런패키지의 zip함수로 각각의 리스트를 길이와 무게를 2차원 리스트로 만듬\n",
    "# ex) [[25.4, 242.0], [26.3, 290.0]........]\n",
    "fish_data = [[l, w] for l, w in zip(length, weight)]\n",
    "print(\"fish_data[total : \", len(fish_data), \"] : \\n\", fish_data)"
   ]
  },
  {
   "cell_type": "code",
   "execution_count": 5,
   "id": "dramatic-certificate",
   "metadata": {},
   "outputs": [
    {
     "name": "stdout",
     "output_type": "stream",
     "text": [
      "[1, 1, 1, 1, 1, 1, 1, 1, 1, 1, 1, 1, 1, 1, 1, 1, 1, 1, 1, 1, 1, 1, 1, 1, 1, 1, 1, 1, 1, 1, 1, 1, 1, 1, 1, 0, 0, 0, 0, 0, 0, 0, 0, 0, 0, 0, 0, 0, 0]\n"
     ]
    }
   ],
   "source": [
    "# 머신러닝을 위해서 정답 데이터 생성 \n",
    "# 도미 35번, 빙어 14번 등장, 도미 : 1, 빙어 : 0 으로 표시될 데이터 생성\n",
    "# [1] * 35 = 리스트 값 \"1\" 35번 생성 \n",
    "# [0] * 14 = 리스트값 \"0\" 14번 생성 \n",
    "# [1] 35 + [0] 14개 인 각각의 두 리스트를 병합\n",
    "fish_target = [1] * len(bream_length) + [0] * len(smelt_length)\n",
    "print(fish_target)"
   ]
  },
  {
   "cell_type": "code",
   "execution_count": 6,
   "id": "national-kernel",
   "metadata": {},
   "outputs": [
    {
     "data": {
      "text/plain": [
       "1.0"
      ]
     },
     "execution_count": 6,
     "metadata": {},
     "output_type": "execute_result"
    }
   ],
   "source": [
    "# K-최근접 이웃(K-Nearest Neighbors) 알고리즘을 구현한 클래스 호출\n",
    "# 클래스 KNeighbrosClassifier 임포트\n",
    "from sklearn.neighbors import KNeighborsClassifier\n",
    "\n",
    "# KNeighborsClassifier 클래스의 객체 생성\n",
    "kn = KNeighborsClassifier()\n",
    "\n",
    "# fit() 을 이용해서 데이터가 원하는 기준을 학습시키고 훈련 시킨다.\n",
    "kn.fit(fish_data, fish_target)\n",
    "\n",
    "# 사이킷런에서 모델을 평가 하는 함수\n",
    "kn.score(fish_data, fish_target)"
   ]
  },
  {
   "cell_type": "code",
   "execution_count": 7,
   "id": "moral-insider",
   "metadata": {},
   "outputs": [
    {
     "name": "stdout",
     "output_type": "stream",
     "text": [
      "test_fish_data :  [[30, 600]]\n",
      "분류 :  1 , 상품명칭 : 도미\n"
     ]
    }
   ],
   "source": [
    "# 학습 후  테스트 데이터 정상 분류확인\n",
    "test_fish_data = [[l, w] for l, w in zip(test_input_length, test_input_weight)]\n",
    "print(\"test_fish_data : \", test_fish_data)\n",
    "\n",
    "# predict() 함수는 새로운 데이터의 정답을 예측 합니다. \n",
    "rtn = kn.predict(test_fish_data)\n",
    "\n",
    "if rtn[0] == 1 :\n",
    "    print(\"분류 : \", rtn[0], \", 상품명칭 : 도미\")\n",
    "else :\n",
    "    print(\"분류 : \", rtn[0], \", 상품명칭 :  : 빙어\")"
   ]
  },
  {
   "cell_type": "code",
   "execution_count": 8,
   "id": "approximate-judgment",
   "metadata": {
    "scrolled": true
   },
   "outputs": [
    {
     "name": "stdout",
     "output_type": "stream",
     "text": [
      "[[  25.4  242. ]\n",
      " [  26.3  290. ]\n",
      " [  26.5  340. ]\n",
      " [  29.   363. ]\n",
      " [  29.   430. ]\n",
      " [  29.7  450. ]\n",
      " [  29.7  500. ]\n",
      " [  30.   390. ]\n",
      " [  30.   450. ]\n",
      " [  30.7  500. ]\n",
      " [  31.   475. ]\n",
      " [  31.   500. ]\n",
      " [  31.5  500. ]\n",
      " [  32.   340. ]\n",
      " [  32.   600. ]\n",
      " [  32.   600. ]\n",
      " [  33.   700. ]\n",
      " [  33.   700. ]\n",
      " [  33.5  610. ]\n",
      " [  33.5  650. ]\n",
      " [  34.   575. ]\n",
      " [  34.   685. ]\n",
      " [  34.5  620. ]\n",
      " [  35.   680. ]\n",
      " [  35.   700. ]\n",
      " [  35.   725. ]\n",
      " [  35.   720. ]\n",
      " [  36.   714. ]\n",
      " [  36.   850. ]\n",
      " [  37.  1000. ]\n",
      " [  38.5  920. ]\n",
      " [  38.5  955. ]\n",
      " [  39.5  925. ]\n",
      " [  41.   975. ]\n",
      " [  41.   950. ]\n",
      " [   9.8    6.7]\n",
      " [  10.5    7.5]\n",
      " [  10.6    7. ]\n",
      " [  11.     9.7]\n",
      " [  11.2    9.8]\n",
      " [  11.3    8.7]\n",
      " [  11.8   10. ]\n",
      " [  11.8    9.9]\n",
      " [  12.     9.8]\n",
      " [  12.2   12.2]\n",
      " [  12.4   13.4]\n",
      " [  13.    12.2]\n",
      " [  14.3   19.7]\n",
      " [  15.    19.9]]\n",
      "[1 1 1 1 1 1 1 1 1 1 1 1 1 1 1 1 1 1 1 1 1 1 1 1 1 1 1 1 1 1 1 1 1 1 1 0 0\n",
      " 0 0 0 0 0 0 0 0 0 0 0 0]\n"
     ]
    }
   ],
   "source": [
    "# fit_X(대문자X) , _y 데이터 )\n",
    "print(kn._fit_X)\n",
    "print(kn._y)"
   ]
  },
  {
   "cell_type": "code",
   "execution_count": 9,
   "id": "powered-comedy",
   "metadata": {},
   "outputs": [
    {
     "data": {
      "text/plain": [
       "0.7142857142857143"
      ]
     },
     "execution_count": 9,
     "metadata": {},
     "output_type": "execute_result"
    }
   ],
   "source": [
    "# KNeighborsClassifier() 는 기본 주변 5개의 값을 참조하도록되어있음\n",
    "# 사용자 지정이가능합\n",
    "kn49 = KNeighborsClassifier(n_neighbors=49) # 참고 데이터를 49개로 한 kn49모델\n",
    "\n",
    "kn49.fit(fish_data, fish_target)\n",
    "kn49.score(fish_data, fish_target)\n"
   ]
  },
  {
   "cell_type": "code",
   "execution_count": 10,
   "id": "computational-freeze",
   "metadata": {
    "scrolled": true
   },
   "outputs": [
    {
     "name": "stdout",
     "output_type": "stream",
     "text": [
      "0.7142857142857143\n"
     ]
    }
   ],
   "source": [
    "print(35 / 49)"
   ]
  },
  {
   "cell_type": "code",
   "execution_count": 14,
   "id": "gothic-legislature",
   "metadata": {},
   "outputs": [
    {
     "name": "stdout",
     "output_type": "stream",
     "text": [
      "Depth :  18  / score :  0.9795918367346939\n"
     ]
    }
   ],
   "source": [
    "knx = KNeighborsClassifier()\n",
    "knx.fit(fish_data, fish_target)\n",
    "\n",
    "for n in range(5, 50):\n",
    "    kn.n_neighbors = n\n",
    "    score = kn.score(fish_data, fish_target)\n",
    "    if score < 1:\n",
    "        print(\"Depth : \", n, \" / score : \", score)\n",
    "        break\n",
    "    "
   ]
  }
 ],
 "metadata": {
  "kernelspec": {
   "display_name": "Python 3",
   "language": "python",
   "name": "python3"
  },
  "language_info": {
   "codemirror_mode": {
    "name": "ipython",
    "version": 3
   },
   "file_extension": ".py",
   "mimetype": "text/x-python",
   "name": "python",
   "nbconvert_exporter": "python",
   "pygments_lexer": "ipython3",
   "version": "3.7.9"
  }
 },
 "nbformat": 4,
 "nbformat_minor": 5
}
