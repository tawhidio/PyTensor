{
 "cells": [
  {
   "cell_type": "markdown",
   "id": "guilty-baltimore",
   "metadata": {},
   "source": [
    "# 생선 분류 업그레이드판 데이터전처리"
   ]
  },
  {
   "cell_type": "code",
   "execution_count": 1,
   "id": "devoted-lightweight",
   "metadata": {},
   "outputs": [],
   "source": [
    "# 생선의 길이와 무게 데이터\n",
    "fish_length =  [25.4, 26.3, 26.5, 29.0, 29.0, 29.7, 29.7, 30.0, 30.0, \n",
    "                30.7, 31.0, 31.0, 31.5, 32.0, 32.0, 32.0, 33.0, 33.0, \n",
    "                33.5, 33.5, 34.0, 34.0, 34.5, 35.0, 35.0, 35.0, 35.0, \n",
    "                36.0, 36.0, 37.0, 38.5, 38.5, 39.5, 41.0, 41.0, 9.8, \n",
    "                10.5, 10.6, 11.0, 11.2, 11.3, 11.8, 11.8, 12.0, 12.2, \n",
    "                12.4, 13.0, 14.3, 15.0]\n",
    "\n",
    "fish_weight = [242.0, 290.0, 340.0, 363.0, 430.0, 450.0, 500.0, 390.0, \n",
    "                450.0, 500.0, 475.0, 500.0, 500.0, 340.0, 600.0, 600.0, \n",
    "                700.0, 700.0, 610.0, 650.0, 575.0, 685.0, 620.0, 680.0, \n",
    "                700.0, 725.0, 720.0, 714.0, 850.0, 1000.0, 920.0, 955.0, \n",
    "                925.0, 975.0, 950.0, 6.7, 7.5, 7.0, 9.7, 9.8, 8.7, 10.0, \n",
    "                9.9, 9.8, 12.2, 13.4, 12.2, 19.7, 19.9]\n"
   ]
  },
  {
   "cell_type": "code",
   "execution_count": 2,
   "id": "incorporated-poverty",
   "metadata": {},
   "outputs": [
    {
     "data": {
      "text/plain": [
       "array([[1, 4],\n",
       "       [2, 5],\n",
       "       [3, 6]])"
      ]
     },
     "execution_count": 2,
     "metadata": {},
     "output_type": "execute_result"
    }
   ],
   "source": [
    "import numpy as np\n",
    "# 이제 넘파이의 column_stack() 함수로 전달받은 리스트 들을 zip()과 같은 형태로\n",
    "# 만들어준다. 2개의 리스트를  파이썬 tuble 만들어준다.\n",
    "# 파이썬 튜플은 리스트처럼 원소에 순서가 있지만 한번만들어지면 수정불가능\n",
    "# 튜플을 사용하면 함수로 전달한 값이 변하하지않기에 매개변수값으로 자주사용\n",
    "np.column_stack(([1, 2, 3], [4, 5, 6]))"
   ]
  },
  {
   "cell_type": "code",
   "execution_count": 3,
   "id": "hollywood-amplifier",
   "metadata": {},
   "outputs": [
    {
     "name": "stdout",
     "output_type": "stream",
     "text": [
      "[[  25.4  242. ]\n",
      " [  26.3  290. ]\n",
      " [  26.5  340. ]\n",
      " [  29.   363. ]\n",
      " [  29.   430. ]\n",
      " [  29.7  450. ]\n",
      " [  29.7  500. ]\n",
      " [  30.   390. ]\n",
      " [  30.   450. ]\n",
      " [  30.7  500. ]\n",
      " [  31.   475. ]\n",
      " [  31.   500. ]\n",
      " [  31.5  500. ]\n",
      " [  32.   340. ]\n",
      " [  32.   600. ]\n",
      " [  32.   600. ]\n",
      " [  33.   700. ]\n",
      " [  33.   700. ]\n",
      " [  33.5  610. ]\n",
      " [  33.5  650. ]\n",
      " [  34.   575. ]\n",
      " [  34.   685. ]\n",
      " [  34.5  620. ]\n",
      " [  35.   680. ]\n",
      " [  35.   700. ]\n",
      " [  35.   725. ]\n",
      " [  35.   720. ]\n",
      " [  36.   714. ]\n",
      " [  36.   850. ]\n",
      " [  37.  1000. ]\n",
      " [  38.5  920. ]\n",
      " [  38.5  955. ]\n",
      " [  39.5  925. ]\n",
      " [  41.   975. ]\n",
      " [  41.   950. ]\n",
      " [   9.8    6.7]\n",
      " [  10.5    7.5]\n",
      " [  10.6    7. ]\n",
      " [  11.     9.7]\n",
      " [  11.2    9.8]\n",
      " [  11.3    8.7]\n",
      " [  11.8   10. ]\n",
      " [  11.8    9.9]\n",
      " [  12.     9.8]\n",
      " [  12.2   12.2]\n",
      " [  12.4   13.4]\n",
      " [  13.    12.2]\n",
      " [  14.3   19.7]\n",
      " [  15.    19.9]]\n"
     ]
    }
   ],
   "source": [
    "# 생선 데이터 생성\n",
    "# 데이터가 많은 경우 리스트로 작업하는 것은 비효율적이다.\n",
    "# 만들어준다. 2개의 리스트를  파이썬 tuble 만들어준다.\n",
    "# 파이썬 튜플은 리스트처럼 원소에 순서가 있지만 한번만들어지면 수정불가능\n",
    "# 튜플을 사용하면 함수로 전달한 값이 변하하지않기에 매개변수값으로 자주사용\n",
    "fish_data = np.column_stack((fish_length, fish_weight))\n",
    "\n",
    "print(fish_data)"
   ]
  },
  {
   "cell_type": "code",
   "execution_count": 4,
   "id": "ahead-words",
   "metadata": {},
   "outputs": [
    {
     "name": "stdout",
     "output_type": "stream",
     "text": [
      "[1. 1. 1. 1. 1.]\n"
     ]
    }
   ],
   "source": [
    "# 타깃 데이터 생성\n",
    "# numpy 의 ones() 와 zeros() 함수를 사용하여 1과 0읠 생성\n",
    "print(np.ones(5))"
   ]
  },
  {
   "cell_type": "code",
   "execution_count": 5,
   "id": "northern-history",
   "metadata": {
    "scrolled": true
   },
   "outputs": [
    {
     "name": "stdout",
     "output_type": "stream",
     "text": [
      "[1. 1. 1. 1. 1. 1. 1. 1. 1. 1. 1. 1. 1. 1. 1. 1. 1. 1. 1. 1. 1. 1. 1. 1.\n",
      " 1. 1. 1. 1. 1. 1. 1. 1. 1. 1. 1. 0. 0. 0. 0. 0. 0. 0. 0. 0. 0. 0. 0. 0.\n",
      " 0.]\n"
     ]
    }
   ],
   "source": [
    "# column_stack() 과 같이 리스트 배열을 생성 튜플로 전달\n",
    "fish_target = np.concatenate((np.ones(35), np.zeros(14)))\n",
    "print(fish_target)"
   ]
  },
  {
   "cell_type": "code",
   "execution_count": 12,
   "id": "acknowledged-affect",
   "metadata": {},
   "outputs": [
    {
     "name": "stdout",
     "output_type": "stream",
     "text": [
      "(36, 2) (13, 2)\n",
      "(36,) (13,)\n"
     ]
    }
   ],
   "source": [
    "# 사이킷런으로 훈련세트와 테스트 세트 나누기\n",
    "# 사이킷런의 대표적인 함수 train_test_split(), 리스트나 배열의 비율에 맞게\n",
    "# 훈련세트와 테스트 세트로 랜덤 하게 나누어 줍니다.\n",
    "# 함수내의 파라미터값 랜덤시드 를 설정 할 수 도 있다. \n",
    "# 이 함수 는 기본적으로 25%를 테스트 세트로 테어 냅니다.\n",
    "from sklearn.model_selection import train_test_split\n",
    "\n",
    "train_input, test_input, train_target, test_target = train_test_split(\n",
    "    fish_data, fish_target, random_state=42\n",
    ")\n",
    "\n",
    "# shape() 함수를 이용하여 (샘플수, 특성수) 를 알아보자\n",
    "print(train_input.shape, test_input.shape)\n",
    "print(train_target.shape, test_target.shape)"
   ]
  },
  {
   "cell_type": "code",
   "execution_count": 14,
   "id": "labeled-worcester",
   "metadata": {
    "scrolled": true
   },
   "outputs": [
    {
     "name": "stdout",
     "output_type": "stream",
     "text": [
      "[[  30.   450. ]\n",
      " [  29.   363. ]\n",
      " [  29.7  500. ]\n",
      " [  11.3    8.7]\n",
      " [  11.8   10. ]\n",
      " [  13.    12.2]\n",
      " [  32.   600. ]\n",
      " [  30.7  500. ]\n",
      " [  33.   700. ]\n",
      " [  35.   700. ]\n",
      " [  41.   975. ]\n",
      " [  38.5  920. ]\n",
      " [  25.4  242. ]\n",
      " [  12.     9.8]\n",
      " [  39.5  925. ]\n",
      " [  29.7  450. ]\n",
      " [  37.  1000. ]\n",
      " [  31.   500. ]\n",
      " [  10.5    7.5]\n",
      " [  26.3  290. ]\n",
      " [  34.   685. ]\n",
      " [  26.5  340. ]\n",
      " [  10.6    7. ]\n",
      " [   9.8    6.7]\n",
      " [  35.   680. ]\n",
      " [  11.2    9.8]\n",
      " [  31.   475. ]\n",
      " [  34.5  620. ]\n",
      " [  33.5  610. ]\n",
      " [  15.    19.9]\n",
      " [  34.   575. ]\n",
      " [  30.   390. ]\n",
      " [  11.8    9.9]\n",
      " [  32.   600. ]\n",
      " [  36.   850. ]\n",
      " [  11.     9.7]] \n",
      "\n",
      "\n",
      "[[ 32.  340. ]\n",
      " [ 12.4  13.4]\n",
      " [ 14.3  19.7]\n",
      " [ 12.2  12.2]\n",
      " [ 33.  700. ]\n",
      " [ 36.  714. ]\n",
      " [ 35.  720. ]\n",
      " [ 35.  725. ]\n",
      " [ 38.5 955. ]\n",
      " [ 33.5 650. ]\n",
      " [ 31.5 500. ]\n",
      " [ 29.  430. ]\n",
      " [ 41.  950. ]]\n"
     ]
    }
   ],
   "source": [
    "# 훈련 셋과 테스트셋 각각 잘 셔플 되어 튜플 상태인지 확인\n",
    "print(train_input, \"\\n\\n\")\n",
    "print(test_input)"
   ]
  },
  {
   "cell_type": "code",
   "execution_count": 16,
   "id": "bigger-personality",
   "metadata": {},
   "outputs": [
    {
     "name": "stdout",
     "output_type": "stream",
     "text": [
      "[1. 1. 1. 0. 0. 0. 1. 1. 1. 1. 1. 1. 1. 0. 1. 1. 1. 1. 0. 1. 1. 1. 0. 0.\n",
      " 1. 0. 1. 1. 1. 0. 1. 1. 0. 1. 1. 0.] \n",
      "\n",
      "\n",
      "[1. 0. 0. 0. 1. 1. 1. 1. 1. 1. 1. 1. 1.]\n"
     ]
    }
   ],
   "source": [
    "print(train_target, \"\\n\\n\")\n",
    "print(test_target)"
   ]
  },
  {
   "cell_type": "code",
   "execution_count": null,
   "id": "cellular-delta",
   "metadata": {},
   "outputs": [],
   "source": []
  }
 ],
 "metadata": {
  "kernelspec": {
   "display_name": "Python 3",
   "language": "python",
   "name": "python3"
  },
  "language_info": {
   "codemirror_mode": {
    "name": "ipython",
    "version": 3
   },
   "file_extension": ".py",
   "mimetype": "text/x-python",
   "name": "python",
   "nbconvert_exporter": "python",
   "pygments_lexer": "ipython3",
   "version": "3.7.9"
  }
 },
 "nbformat": 4,
 "nbformat_minor": 5
}
