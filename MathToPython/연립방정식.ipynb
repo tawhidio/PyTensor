{
 "cells": [
  {
   "cell_type": "markdown",
   "metadata": {},
   "source": [
    " # 3x + y = 2\n",
    " \n",
    " \n",
    " # x - 2y = 3"
   ]
  },
  {
   "cell_type": "code",
   "execution_count": 8,
   "metadata": {},
   "outputs": [
    {
     "name": "stdout",
     "output_type": "stream",
     "text": [
      "RES1 =  [{x: 1/3 - 4*y/3}]\n",
      "RES2 =  [{y: 1/4 - 3*x/4}]\n",
      "RESULT1 =  [0.250000000000000]\n",
      "RESULT2 =  [0.333333333333333]\n",
      "RESULT =  []\n"
     ]
    }
   ],
   "source": [
    "from sympy import Symbol, solve\n",
    "\n",
    "x = Symbol('x')\n",
    "y = Symbol('y')\n",
    "\n",
    "eq = 3 * x + 4 * y - 1\n",
    "\n",
    "eq1 = 1 / 3 - 4 * y / 3\n",
    "eq2 = 1 / 4 - 3 * x / 4\n",
    "\n",
    "res1 = solve(eq)\n",
    "res2 = solve(eq, y , dict=True)\n",
    "\n",
    "result1 = solve(eq1)\n",
    "result2 = solve(eq2)\n",
    "result = solve(eq1, eq2, dict=True)\n",
    "\n",
    "print(\"RES1 = \", res1)\n",
    "print(\"RES2 = \", res2)\n",
    "\n",
    "print(\"RESULT1 = \", result1)\n",
    "print(\"RESULT2 = \", result2)\n",
    "print(\"RESULT = \", result)"
   ]
  },
  {
   "cell_type": "code",
   "execution_count": 13,
   "metadata": {},
   "outputs": [
    {
     "name": "stdout",
     "output_type": "stream",
     "text": [
      "[{a: (-b + y)/x}]\n"
     ]
    }
   ],
   "source": [
    "a = Symbol('a')\n",
    "b = Symbol('b')\n",
    "eq3 = a * x + b - y\n",
    "##eq4 = a * x + y - b\n",
    "\n",
    "result3 = solve(eq3)\n",
    "print(result3)"
   ]
  }
 ],
 "metadata": {
  "kernelspec": {
   "display_name": "Python 3",
   "language": "python",
   "name": "python3"
  },
  "language_info": {
   "codemirror_mode": {
    "name": "ipython",
    "version": 3
   },
   "file_extension": ".py",
   "mimetype": "text/x-python",
   "name": "python",
   "nbconvert_exporter": "python",
   "pygments_lexer": "ipython3",
   "version": "3.7.9"
  }
 },
 "nbformat": 4,
 "nbformat_minor": 4
}
