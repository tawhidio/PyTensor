{
 "cells": [
  {
   "cell_type": "markdown",
   "metadata": {},
   "source": [
    "<script type=\"text/javascript\" src=\"http://cdn.mathjax.org/mathjax/latest/MathJax.js?config=default\"></script>\n",
    "# 공부시간과 성적의 관계 \n",
    "\n",
    "|공부시간|성적|예측값|\n",
    "|:---:|:---:|:---:|\n",
    "|2|81|**83.6**|\n",
    "|4|93|**88.2**|\n",
    "|6|91|**92.8**|\n",
    "|8|97|**97.4**|\n",
    "\n",
    "##  공식\n",
    "* $ 공부시간(x) 평균 : (2 + 4 + 6 + 8) / 4 = 5 $\n",
    "* $ 성적(y) 평균     : (81 + 93 + 91 + 97) / 4 = 90.5 $\n",
    "###  $ a = {(x - x평균)(y - y평균)     \\over (x - x평균)^2의 합    } $\n",
    "### $ b = y의 평균 - (x의 평균 \\times 기울기 a) $\n",
    "### $ y = ax + b $\n",
    "#### $ y = 2.3x + 79 $\n"
   ]
  },
  {
   "cell_type": "code",
   "execution_count": 1,
   "metadata": {},
   "outputs": [
    {
     "name": "stdout",
     "output_type": "stream",
     "text": [
      "ax =  5.0\n",
      "by =  90.5\n",
      "분자 값 =  46.0\n",
      "분모 값 =  20.0\n"
     ]
    }
   ],
   "source": [
    "import numpy as np ## 계산을 위해 numpy \n",
    "import matplotlib.pyplot as pl\n",
    "\n",
    "x = [2, 4, 6, 8]\n",
    "y = [81, 93, 91, 97]\n",
    "\n",
    "ax = np.mean(x) ## x의 모든 원소의 평균을 구하는 함수\n",
    "by = np.mean(y) ## y의 모든 원소의 평균을 구하는 함수\n",
    "print(\"ax = \",ax)\n",
    "print(\"by = \",by)\n",
    "\n",
    "## 최소 제곱근의 공식 으로 X에 대한 a의 기울기를 구함\n",
    "## x, y의 (x값과 - x평균값의 차이) * (y값과 - y평균값의 차이)를 합한 값: 분자 값\n",
    "def a_value(x, ax, y, by):\n",
    "    result = 0;             ## 응답값 초기화\n",
    "    \n",
    "    ## x의 크기만큼 포문을 돌린다.\n",
    "    for i in range(len(x)):\n",
    "        result += (x[i] - ax) * (y[i] - by)\n",
    "        \n",
    "    return result\n",
    "\n",
    "dividend = a_value(x, ax, y, by)\n",
    "print(\"분자 값 = \", dividend);\n",
    "\n",
    "## x의 편차(각 값과 평균값의 차이)를 제곱하해서 합한 값 : 분모 자\n",
    "divisor = sum([(i - ax)**2 for i in x])\n",
    "print(\"분모 값 = \", divisor)"
   ]
  },
  {
   "cell_type": "code",
   "execution_count": 2,
   "metadata": {},
   "outputs": [
    {
     "name": "stdout",
     "output_type": "stream",
     "text": [
      "기울기 a의 값 =  2.3\n"
     ]
    }
   ],
   "source": [
    "## X에 대한 기울기 a의 값\n",
    "a_Inclination = dividend / divisor\n",
    "print(\"기울기 a의 값 = \", a_Inclination)"
   ]
  },
  {
   "cell_type": "code",
   "execution_count": 3,
   "metadata": {},
   "outputs": [
    {
     "name": "stdout",
     "output_type": "stream",
     "text": [
      "y의 절편 b의 값 79.0\n"
     ]
    }
   ],
   "source": [
    "## y의 절편인 b 구하기 b =  y의 평균값과 - (x의 평균값 * a의 기울기) 차이로 구함\n",
    "b = by - (ax * a_Inclination)\n",
    "print(\"y의 절편 b의 값\", b)"
   ]
  },
  {
   "cell_type": "code",
   "execution_count": 4,
   "metadata": {},
   "outputs": [
    {
     "name": "stdout",
     "output_type": "stream",
     "text": [
      "[시간 :  2 , 성적 :  81 ] 예측값 [ 83.6 ] 오차[ 2.5999999999999943 ]\n",
      "[시간 :  4 , 성적 :  93 ] 예측값 [ 88.2 ] 오차[ -4.799999999999997 ]\n",
      "[시간 :  6 , 성적 :  91 ] 예측값 [ 92.8 ] 오차[ 1.7999999999999972 ]\n",
      "[시간 :  8 , 성적 :  97 ] 예측값 [ 97.4 ] 오차[ 0.4000000000000057 ]\n"
     ]
    }
   ],
   "source": [
    "## 예측값 구하기\n",
    "def predicted_value(x, ax, y, by):\n",
    "    p_value = []\n",
    "\n",
    "    for i in range(len(x)):\n",
    "        # y = 2.3x + 79\n",
    "        p_value.append((a_Inclination * x[i]) + b)\n",
    "        \n",
    "        #오차값 : 예측값 - 성적\n",
    "        native_err =  p_value[i]- y[i]\n",
    "        \n",
    "        print(\"[시간 : \", x[i] ,\", 성적 : \", y[i] ,\"] 예측값 [\", p_value[i], \"] 오차[\", native_err ,\"]\")\n",
    "        \n",
    "    return p_value\n",
    "        \n",
    "p_value = predicted_value(x, ax, y, by)\n"
   ]
  },
  {
   "cell_type": "code",
   "execution_count": 5,
   "metadata": {},
   "outputs": [
    {
     "data": {
      "image/png": "[encoded data removed]",
      "text/plain": [
       "<Figure size 432x288 with 1 Axes>"
      ]
     },
     "metadata": {
      "needs_background": "light"
     },
     "output_type": "display_data"
    }
   ],
   "source": [
    "# x 값, y값 순서 \n",
    "# 시간, 성적\n",
    "pl.plot(x, y, label=\"Original\")\n",
    "pl.scatter(x, y)\n",
    "\n",
    "# 시간, 예측\n",
    "pl.plot(x, p_value, label=\"Predicted\")\n",
    "pl.scatter(x, p_value)\n",
    "\n",
    "pl.legend()\n",
    "pl.show()\n"
   ]
  },
  {
   "cell_type": "code",
   "execution_count": 6,
   "metadata": {},
   "outputs": [
    {
     "name": "stdout",
     "output_type": "stream",
     "text": [
      "[시간 :  2 , 성적 :  81 ]예측값 [ 82.54 ] 오차[ 1 ], 오차의 합 [ 1 ]\n",
      "[시간 :  4 , 성적 :  93 ]예측값 [ 88.08 ] 오차[ -5 ], 오차의 합 [ 25 ]\n",
      "[시간 :  6 , 성적 :  91 ]예측값 [ 93.62 ] 오차[ 2 ], 오차의 합 [ 4 ]\n",
      "[시간 :  8 , 성적 :  97 ]예측값 [ 99.16 ] 오차[ 2 ], 오차의 합 [ 4 ]\n"
     ]
    }
   ],
   "source": [
    "## 오차범위 수정 가설 \n",
    "a_Inclination = 2.77\n",
    "b = 77\n",
    "\n",
    "## 예측값 구하기\n",
    "def predicted_value(x, ax, y, by):\n",
    "    p_value = []\n",
    "\n",
    "    for i in range(len(x)):\n",
    "        # y = 2.3x + 79\n",
    "        p_value.append((a_Inclination * x[i]) + b)\n",
    "        \n",
    "        #오차값 : 예측값 - 성적\n",
    "        native_err =  int(p_value[i]) - y[i]\n",
    "        mse = native_err ** 2        \n",
    "        \n",
    "        print(\"[시간 : \", x[i] ,\", 성적 : \", y[i] ,\"]\" +\n",
    "              \"예측값 [\", p_value[i], \"] 오차[\", native_err ,\"], \" +\n",
    "              \"오차의 합 [\", mse , \"]\")\n",
    "        \n",
    "    return p_value\n",
    "        \n",
    "p_value = predicted_value(x, ax, y, by)"
   ]
  },
  {
   "cell_type": "code",
   "execution_count": 7,
   "metadata": {},
   "outputs": [
    {
     "data": {
      "image/png": "[encoded data removed]",
      "text/plain": [
       "<Figure size 432x288 with 1 Axes>"
      ]
     },
     "metadata": {
      "needs_background": "light"
     },
     "output_type": "display_data"
    }
   ],
   "source": [
    "# x 값, y값 순서 \n",
    "# 시간, 성적\n",
    "pl.plot(x, y, label=\"Original\")\n",
    "pl.scatter(x, y)\n",
    "\n",
    "# 시간, 예측\n",
    "pl.plot(x, p_value, label=\"Predicted\")\n",
    "pl.scatter(x, p_value)\n",
    "\n",
    "pl.legend()\n",
    "pl.show()\n"
   ]
  }
 ],
 "metadata": {
  "kernelspec": {
   "display_name": "Python 3",
   "language": "python",
   "name": "python3"
  },
  "language_info": {
   "codemirror_mode": {
    "name": "ipython",
    "version": 3
   },
   "file_extension": ".py",
   "mimetype": "text/x-python",
   "name": "python",
   "nbconvert_exporter": "python",
   "pygments_lexer": "ipython3",
   "version": "3.7.9"
  }
 },
 "nbformat": 4,
 "nbformat_minor": 4
}
