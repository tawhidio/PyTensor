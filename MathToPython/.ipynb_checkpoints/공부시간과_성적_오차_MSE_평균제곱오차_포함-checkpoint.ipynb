{
 "cells": [
  {
   "cell_type": "markdown",
   "metadata": {},
   "source": [
    "<script type=\"text/javascript\" src=\"http://cdn.mathjax.org/mathjax/latest/MathJax.js?config=default\"></script>\n",
    "# 공부시간과 성적의 관계 \n",
    "\n",
    "|공부시간|성적|예측값|\n",
    "|:---:|:---:|:---:|\n",
    "|2|81|**83.6**|\n",
    "|4|93|**88.2**|\n",
    "|6|91|**92.8**|\n",
    "|8|97|**97.4**|\n",
    "\n",
    "# fake_a_b는 임의의 예측값을 넣으면된다 \n",
    "# 아래는 공식으로 순차적으로 풀기위해 \n",
    "# 기본에서 계산처리한값들 \n",
    "\n",
    "##  공식\n",
    "* $ 공부시간(x) 평균 : (2 + 4 + 6 + 8) / 4 = 5 $\n",
    "* $ 성적(y) 평균     : (81 + 93 + 91 + 97) / 4 = 90.5 $\n",
    "### 1.  $ 기울기 a = {(x - x평균)(y - y평균)의 합     \\over (x - x평균)^2의 합    } $\n",
    "==> $ a = {(2-5)(81-90.5)+(4-5)(93-90.5)+(6-5)(91-90.5)+(8-5)(97-90.5) \\over ((2-5)^2+(4-5)^2+(6-5)^2+(8-5)^2} $   \n",
    "===> $ {46 \\over 20} $   \n",
    "====> $ 기울기 a = 2.3 $   \n",
    "### 2 . $ y절편의 값 b = y의 평균 - (x의 평균 \\times 기울기 a) $\n",
    "==> $ b = 90.5 - (5 \\times 2.3) $   \n",
    "===> $ b = 90.5 - 11.5 $   \n",
    "====> $ y절편의 값 b = 79 $\n",
    "### 3. $ y = ax + b $\n",
    "==> $ y = 2.3x + 79 $    \n",
    "===> $y = 2.3 \\times 2 + 79  = 83.6 $   \n",
    "===> $y = 2.3 \\times 4 + 79  = 88.2 $   \n",
    "===> $y = 2.3 \\times 6 + 79  = 82.8 $   \n",
    "===> $y = 2.3 \\times 8 + 79  = 87.4 $   \n",
    "### 4.$ 오차 값 $\n",
    "==> $ 오차 = 예측값 - 실제값 $   \n",
    "===> $ 83.6 - 81 = 1.0 $   \n",
    "===> $ 88.2 - 93 = 25.0 $   \n",
    "===> $ 92.8 - 91 = 9.0 $  \n",
    "===> $ 97.4 - 97 = 9.0 $\n",
    "### 5.1 $ 평균 제곱 오차(MSE) $\n",
    "==> $ \\frac{1}{n}\\sum (y_i - \\hat{y_i})^2$   \n",
    "===> $ (83.6 - 81)^2 = 6.7599999999999705  $         \n",
    "===> $ (88.2 - 93)^2 = 23.039999999999974  $   \n",
    "===> $ (92.8 - 91)^2 = 3.2399999999999896  $   \n",
    "===> $ (97.4 - 97)^2 = 0.16000000000000456 $   \n",
    "==> $ \\sum\\limits_{i}^n (y_i - \\hat{y_i})^2 $   \n",
    " > $ (6.7599999999999705 + 23.039999999999974 + 3.2399999999999896 + 0.16000000000000456) / 4 $   \n",
    " > $ 평균 제곱 오차(MSE) = 8.299999999999985 $"
   ]
  },
  {
   "cell_type": "code",
   "execution_count": 1,
   "metadata": {},
   "outputs": [
    {
     "name": "stdout",
     "output_type": "stream",
     "text": [
      "x =>  [2, 4, 6, 8]\n",
      "y =>  [81, 93, 91, 97]\n"
     ]
    }
   ],
   "source": [
    "import numpy as np\n",
    "import matplotlib.pyplot as pl\n",
    "\n",
    "fake_a_b = [2.3, 79.0]\n",
    "\n",
    "data = [[2, 81], [4, 93], [6, 91], [8, 97]]\n",
    "\n",
    "## i[0]은 첫번째값(a), i[1]은 두번째값(y)\n",
    "x = [i[0] for i in data]\n",
    "y = [i[1] for i in data]\n",
    "\n",
    "print(\"x => \", x)\n",
    "print(\"y => \", y)"
   ]
  },
  {
   "cell_type": "code",
   "execution_count": 2,
   "metadata": {},
   "outputs": [],
   "source": [
    "## y = ax + b 에 대한 결과 처리 함수, EX)  예측값A * X값 + 예측값B = 3 * 2 + 76\n",
    "def predict(x):\n",
    "    return (fake_a_b[0] * x) + fake_a_b[1]"
   ]
  },
  {
   "cell_type": "code",
   "execution_count": 3,
   "metadata": {
    "scrolled": true
   },
   "outputs": [],
   "source": [
    "## MES 평균제곱오차, EX) Y값 점수 - 예측값, 81 - 82 = 1,0 = 1,0 * 1,0 = 1.0\n",
    "def mse(y, y_hat):\n",
    "    return np.mean(((y - y_hat) ** 2))"
   ]
  },
  {
   "cell_type": "code",
   "execution_count": 4,
   "metadata": {},
   "outputs": [],
   "source": [
    "# MSE 평균오차 값 \n",
    "def mse_val(y, preidct_res):\n",
    "    return mse(np.array(y), np.array(predict_res))"
   ]
  },
  {
   "cell_type": "code",
   "execution_count": 5,
   "metadata": {},
   "outputs": [
    {
     "name": "stdout",
     "output_type": "stream",
     "text": [
      "시간 :  2  성적 :  81  예측값 :  83.6  오차값 :  6.7599999999999705\n",
      "시간 :  4  성적 :  93  예측값 :  88.2  오차값 :  23.039999999999974\n",
      "시간 :  6  성적 :  91  예측값 :  92.8  오차값 :  3.2399999999999896\n",
      "시간 :  8  성적 :  97  예측값 :  97.4  오차값 :  0.16000000000000456\n"
     ]
    }
   ],
   "source": [
    "# 예측값 배열\n",
    "predict_res = []\n",
    " \n",
    "for i in range(len(x)):\n",
    "    predict_res.append(predict(x[i]))\n",
    "    print(\"시간 : \", x[i], \n",
    "          \" 성적 : \", y[i],\n",
    "          \" 예측값 : \", predict_res[i], \n",
    "          \" 오차값 : \", mse(y[i], predict_res[i])\n",
    "        )"
   ]
  },
  {
   "cell_type": "code",
   "execution_count": 6,
   "metadata": {
    "scrolled": true
   },
   "outputs": [
    {
     "name": "stdout",
     "output_type": "stream",
     "text": [
      "MSE 값 :  8.299999999999985\n"
     ]
    }
   ],
   "source": [
    "print(\"MSE 값 : \", mse_val(y, predict_res))"
   ]
  },
  {
   "cell_type": "code",
   "execution_count": 7,
   "metadata": {},
   "outputs": [
    {
     "data": {
      "image/png": "[encoded data removed]",
      "text/plain": [
       "<Figure size 432x288 with 1 Axes>"
      ]
     },
     "metadata": {
      "needs_background": "light"
     },
     "output_type": "display_data"
    }
   ],
   "source": [
    "# 그래프 처리 \n",
    "pl.plot(x, y, label='BASE')\n",
    "pl.scatter(x, y)\n",
    "\n",
    "pl.plot(x, predict_res)\n",
    "pl.scatter(x, predict_res)\n",
    "\n",
    "pl.legend()\n",
    "pl.show()"
   ]
  }
 ],
 "metadata": {
  "kernelspec": {
   "display_name": "Python 3",
   "language": "python",
   "name": "python3"
  },
  "language_info": {
   "codemirror_mode": {
    "name": "ipython",
    "version": 3
   },
   "file_extension": ".py",
   "mimetype": "text/x-python",
   "name": "python",
   "nbconvert_exporter": "python",
   "pygments_lexer": "ipython3",
   "version": "3.7.9"
  }
 },
 "nbformat": 4,
 "nbformat_minor": 4
}
